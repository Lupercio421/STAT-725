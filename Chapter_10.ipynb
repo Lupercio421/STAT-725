{
 "cells": [
  {
   "cell_type": "code",
   "execution_count": 1,
   "metadata": {},
   "outputs": [],
   "source": [
    "import time"
   ]
  }
 ],
 "metadata": {
  "interpreter": {
   "hash": "91570868dd58e24c3258a43a5f0558d480e2c3868fa9d87dac7912023fc84c5c"
  },
  "kernelspec": {
   "display_name": "Python 3.9.7 64-bit ('sfds': conda)",
   "language": "python",
   "name": "python3"
  },
  "language_info": {
   "codemirror_mode": {
    "name": "ipython",
    "version": 3
   },
   "file_extension": ".py",
   "mimetype": "text/x-python",
   "name": "python",
   "nbconvert_exporter": "python",
   "pygments_lexer": "ipython3",
   "version": "3.9.7"
  },
  "orig_nbformat": 4
 },
 "nbformat": 4,
 "nbformat_minor": 2
}
